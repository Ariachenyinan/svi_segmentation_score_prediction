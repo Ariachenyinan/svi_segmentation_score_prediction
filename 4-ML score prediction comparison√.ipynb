{
 "cells": [
  {
   "cell_type": "code",
   "execution_count": 164,
   "id": "0b2f7a86",
   "metadata": {
    "scrolled": true
   },
   "outputs": [],
   "source": [
    "import pandas as pd \n",
    "import numpy as np \n",
    "\n",
    "\n",
    "from sklearn.model_selection import train_test_split, cross_val_score\n",
    "from sklearn.linear_model import LinearRegression\n",
    "from sklearn.tree import DecisionTreeRegressor\n",
    "from sklearn.ensemble import RandomForestRegressor, GradientBoostingRegressor\n",
    "from sklearn.neighbors import KNeighborsRegressor\n",
    "from sklearn.svm import SVR\n",
    "from sklearn.metrics import r2_score, mean_absolute_error"
   ]
  },
  {
   "cell_type": "code",
   "execution_count": 165,
   "id": "577236e6",
   "metadata": {
    "scrolled": false
   },
   "outputs": [
    {
     "data": {
      "text/html": [
       "<div>\n",
       "<style scoped>\n",
       "    .dataframe tbody tr th:only-of-type {\n",
       "        vertical-align: middle;\n",
       "    }\n",
       "\n",
       "    .dataframe tbody tr th {\n",
       "        vertical-align: top;\n",
       "    }\n",
       "\n",
       "    .dataframe thead th {\n",
       "        text-align: right;\n",
       "    }\n",
       "</style>\n",
       "<table border=\"1\" class=\"dataframe\">\n",
       "  <thead>\n",
       "    <tr style=\"text-align: right;\">\n",
       "      <th></th>\n",
       "      <th>img</th>\n",
       "      <th>mu-intc</th>\n",
       "      <th>mu-intb</th>\n",
       "      <th>mu-inta</th>\n",
       "      <th>mu-comc</th>\n",
       "      <th>mu-comb</th>\n",
       "      <th>mu-coma</th>\n",
       "      <th>mu-safc</th>\n",
       "      <th>mu-safb</th>\n",
       "      <th>mu-safa</th>\n",
       "      <th>...</th>\n",
       "      <th>vehicle</th>\n",
       "      <th>motorcycle</th>\n",
       "      <th>bicycle</th>\n",
       "      <th>street furniture</th>\n",
       "      <th>street item</th>\n",
       "      <th>rail</th>\n",
       "      <th>sign</th>\n",
       "      <th>stair</th>\n",
       "      <th>lightning</th>\n",
       "      <th>ashcan</th>\n",
       "    </tr>\n",
       "  </thead>\n",
       "  <tbody>\n",
       "    <tr>\n",
       "      <th>0</th>\n",
       "      <td>I_029.jpg</td>\n",
       "      <td>41.330597</td>\n",
       "      <td>35.238742</td>\n",
       "      <td>37.152887</td>\n",
       "      <td>39.556681</td>\n",
       "      <td>25.743826</td>\n",
       "      <td>41.406528</td>\n",
       "      <td>41.899048</td>\n",
       "      <td>26.669449</td>\n",
       "      <td>35.666717</td>\n",
       "      <td>...</td>\n",
       "      <td>0.001224</td>\n",
       "      <td>0.000000</td>\n",
       "      <td>0.000870</td>\n",
       "      <td>0.000000</td>\n",
       "      <td>0.000000</td>\n",
       "      <td>0.046275</td>\n",
       "      <td>0.000000</td>\n",
       "      <td>0.000000</td>\n",
       "      <td>0.014580</td>\n",
       "      <td>0.000000</td>\n",
       "    </tr>\n",
       "    <tr>\n",
       "      <th>1</th>\n",
       "      <td>C-E_032.jpg</td>\n",
       "      <td>40.981290</td>\n",
       "      <td>34.538871</td>\n",
       "      <td>28.960541</td>\n",
       "      <td>35.201461</td>\n",
       "      <td>12.661502</td>\n",
       "      <td>34.802491</td>\n",
       "      <td>28.971481</td>\n",
       "      <td>27.630391</td>\n",
       "      <td>29.790017</td>\n",
       "      <td>...</td>\n",
       "      <td>0.008467</td>\n",
       "      <td>0.000428</td>\n",
       "      <td>0.035923</td>\n",
       "      <td>0.000000</td>\n",
       "      <td>0.018433</td>\n",
       "      <td>0.000000</td>\n",
       "      <td>0.010576</td>\n",
       "      <td>0.000000</td>\n",
       "      <td>0.018152</td>\n",
       "      <td>0.000000</td>\n",
       "    </tr>\n",
       "    <tr>\n",
       "      <th>2</th>\n",
       "      <td>I_025.jpg</td>\n",
       "      <td>40.898587</td>\n",
       "      <td>28.731554</td>\n",
       "      <td>34.241651</td>\n",
       "      <td>18.134617</td>\n",
       "      <td>14.966377</td>\n",
       "      <td>34.083002</td>\n",
       "      <td>37.884387</td>\n",
       "      <td>26.898902</td>\n",
       "      <td>39.692736</td>\n",
       "      <td>...</td>\n",
       "      <td>0.009769</td>\n",
       "      <td>0.000000</td>\n",
       "      <td>0.004912</td>\n",
       "      <td>0.000225</td>\n",
       "      <td>0.000000</td>\n",
       "      <td>0.003084</td>\n",
       "      <td>0.005137</td>\n",
       "      <td>0.006584</td>\n",
       "      <td>0.000000</td>\n",
       "      <td>0.000708</td>\n",
       "    </tr>\n",
       "    <tr>\n",
       "      <th>3</th>\n",
       "      <td>J1_003.jpg</td>\n",
       "      <td>40.171143</td>\n",
       "      <td>27.768041</td>\n",
       "      <td>30.891519</td>\n",
       "      <td>36.163310</td>\n",
       "      <td>33.176864</td>\n",
       "      <td>39.859926</td>\n",
       "      <td>32.974474</td>\n",
       "      <td>31.402669</td>\n",
       "      <td>37.009255</td>\n",
       "      <td>...</td>\n",
       "      <td>0.000944</td>\n",
       "      <td>0.000000</td>\n",
       "      <td>0.000000</td>\n",
       "      <td>0.000000</td>\n",
       "      <td>0.000033</td>\n",
       "      <td>0.000000</td>\n",
       "      <td>0.000000</td>\n",
       "      <td>0.000000</td>\n",
       "      <td>0.001624</td>\n",
       "      <td>0.000000</td>\n",
       "    </tr>\n",
       "    <tr>\n",
       "      <th>4</th>\n",
       "      <td>I_007.jpg</td>\n",
       "      <td>40.009682</td>\n",
       "      <td>35.272721</td>\n",
       "      <td>31.600628</td>\n",
       "      <td>36.078771</td>\n",
       "      <td>38.097266</td>\n",
       "      <td>43.404820</td>\n",
       "      <td>35.708764</td>\n",
       "      <td>33.179937</td>\n",
       "      <td>41.928218</td>\n",
       "      <td>...</td>\n",
       "      <td>0.000846</td>\n",
       "      <td>0.000000</td>\n",
       "      <td>0.054873</td>\n",
       "      <td>0.026728</td>\n",
       "      <td>0.000000</td>\n",
       "      <td>0.003312</td>\n",
       "      <td>0.000724</td>\n",
       "      <td>0.000000</td>\n",
       "      <td>0.000245</td>\n",
       "      <td>0.000000</td>\n",
       "    </tr>\n",
       "    <tr>\n",
       "      <th>...</th>\n",
       "      <td>...</td>\n",
       "      <td>...</td>\n",
       "      <td>...</td>\n",
       "      <td>...</td>\n",
       "      <td>...</td>\n",
       "      <td>...</td>\n",
       "      <td>...</td>\n",
       "      <td>...</td>\n",
       "      <td>...</td>\n",
       "      <td>...</td>\n",
       "      <td>...</td>\n",
       "      <td>...</td>\n",
       "      <td>...</td>\n",
       "      <td>...</td>\n",
       "      <td>...</td>\n",
       "      <td>...</td>\n",
       "      <td>...</td>\n",
       "      <td>...</td>\n",
       "      <td>...</td>\n",
       "      <td>...</td>\n",
       "      <td>...</td>\n",
       "    </tr>\n",
       "    <tr>\n",
       "      <th>251</th>\n",
       "      <td>G-E2_010.jpg</td>\n",
       "      <td>13.299420</td>\n",
       "      <td>22.409858</td>\n",
       "      <td>12.582427</td>\n",
       "      <td>15.670165</td>\n",
       "      <td>21.320216</td>\n",
       "      <td>14.054537</td>\n",
       "      <td>20.985314</td>\n",
       "      <td>17.239734</td>\n",
       "      <td>14.071533</td>\n",
       "      <td>...</td>\n",
       "      <td>0.214915</td>\n",
       "      <td>0.011155</td>\n",
       "      <td>0.001769</td>\n",
       "      <td>0.000000</td>\n",
       "      <td>0.001685</td>\n",
       "      <td>0.000000</td>\n",
       "      <td>0.001056</td>\n",
       "      <td>0.000000</td>\n",
       "      <td>0.000000</td>\n",
       "      <td>0.000000</td>\n",
       "    </tr>\n",
       "    <tr>\n",
       "      <th>252</th>\n",
       "      <td>B_016.jpg</td>\n",
       "      <td>13.251297</td>\n",
       "      <td>39.364263</td>\n",
       "      <td>26.058244</td>\n",
       "      <td>17.393496</td>\n",
       "      <td>37.137498</td>\n",
       "      <td>34.506394</td>\n",
       "      <td>31.426402</td>\n",
       "      <td>43.393922</td>\n",
       "      <td>31.843180</td>\n",
       "      <td>...</td>\n",
       "      <td>0.000323</td>\n",
       "      <td>0.000000</td>\n",
       "      <td>0.000000</td>\n",
       "      <td>0.000000</td>\n",
       "      <td>0.000000</td>\n",
       "      <td>0.032399</td>\n",
       "      <td>0.000000</td>\n",
       "      <td>0.000000</td>\n",
       "      <td>0.000000</td>\n",
       "      <td>0.000000</td>\n",
       "    </tr>\n",
       "    <tr>\n",
       "      <th>253</th>\n",
       "      <td>L-N_005.jpg</td>\n",
       "      <td>13.098496</td>\n",
       "      <td>14.159689</td>\n",
       "      <td>13.433022</td>\n",
       "      <td>16.394405</td>\n",
       "      <td>31.205639</td>\n",
       "      <td>16.261944</td>\n",
       "      <td>21.707011</td>\n",
       "      <td>23.335648</td>\n",
       "      <td>15.048890</td>\n",
       "      <td>...</td>\n",
       "      <td>0.211652</td>\n",
       "      <td>0.000000</td>\n",
       "      <td>0.000000</td>\n",
       "      <td>0.000000</td>\n",
       "      <td>0.000000</td>\n",
       "      <td>0.012188</td>\n",
       "      <td>0.000000</td>\n",
       "      <td>0.000000</td>\n",
       "      <td>0.000056</td>\n",
       "      <td>0.000000</td>\n",
       "    </tr>\n",
       "    <tr>\n",
       "      <th>254</th>\n",
       "      <td>D-N_037.jpg</td>\n",
       "      <td>12.697278</td>\n",
       "      <td>25.865651</td>\n",
       "      <td>32.937496</td>\n",
       "      <td>32.279264</td>\n",
       "      <td>32.954639</td>\n",
       "      <td>31.767276</td>\n",
       "      <td>26.457804</td>\n",
       "      <td>23.830873</td>\n",
       "      <td>34.265851</td>\n",
       "      <td>...</td>\n",
       "      <td>0.012331</td>\n",
       "      <td>0.000570</td>\n",
       "      <td>0.001679</td>\n",
       "      <td>0.000000</td>\n",
       "      <td>0.000000</td>\n",
       "      <td>0.066849</td>\n",
       "      <td>0.058823</td>\n",
       "      <td>0.000125</td>\n",
       "      <td>0.000014</td>\n",
       "      <td>0.000000</td>\n",
       "    </tr>\n",
       "    <tr>\n",
       "      <th>255</th>\n",
       "      <td>Q_005.jpg</td>\n",
       "      <td>12.157972</td>\n",
       "      <td>22.165006</td>\n",
       "      <td>14.524831</td>\n",
       "      <td>18.606411</td>\n",
       "      <td>28.868542</td>\n",
       "      <td>24.374723</td>\n",
       "      <td>16.869302</td>\n",
       "      <td>19.971988</td>\n",
       "      <td>23.994978</td>\n",
       "      <td>...</td>\n",
       "      <td>0.021597</td>\n",
       "      <td>0.015831</td>\n",
       "      <td>0.010834</td>\n",
       "      <td>0.000000</td>\n",
       "      <td>0.000000</td>\n",
       "      <td>0.000000</td>\n",
       "      <td>0.000472</td>\n",
       "      <td>0.000000</td>\n",
       "      <td>0.000000</td>\n",
       "      <td>0.000000</td>\n",
       "    </tr>\n",
       "  </tbody>\n",
       "</table>\n",
       "<p>256 rows × 32 columns</p>\n",
       "</div>"
      ],
      "text/plain": [
       "              img    mu-intc    mu-intb    mu-inta    mu-comc    mu-comb   \n",
       "0       I_029.jpg  41.330597  35.238742  37.152887  39.556681  25.743826  \\\n",
       "1     C-E_032.jpg  40.981290  34.538871  28.960541  35.201461  12.661502   \n",
       "2       I_025.jpg  40.898587  28.731554  34.241651  18.134617  14.966377   \n",
       "3      J1_003.jpg  40.171143  27.768041  30.891519  36.163310  33.176864   \n",
       "4       I_007.jpg  40.009682  35.272721  31.600628  36.078771  38.097266   \n",
       "..            ...        ...        ...        ...        ...        ...   \n",
       "251  G-E2_010.jpg  13.299420  22.409858  12.582427  15.670165  21.320216   \n",
       "252     B_016.jpg  13.251297  39.364263  26.058244  17.393496  37.137498   \n",
       "253   L-N_005.jpg  13.098496  14.159689  13.433022  16.394405  31.205639   \n",
       "254   D-N_037.jpg  12.697278  25.865651  32.937496  32.279264  32.954639   \n",
       "255     Q_005.jpg  12.157972  22.165006  14.524831  18.606411  28.868542   \n",
       "\n",
       "       mu-coma    mu-safc    mu-safb    mu-safa  ...   vehicle  motorcycle   \n",
       "0    41.406528  41.899048  26.669449  35.666717  ...  0.001224    0.000000  \\\n",
       "1    34.802491  28.971481  27.630391  29.790017  ...  0.008467    0.000428   \n",
       "2    34.083002  37.884387  26.898902  39.692736  ...  0.009769    0.000000   \n",
       "3    39.859926  32.974474  31.402669  37.009255  ...  0.000944    0.000000   \n",
       "4    43.404820  35.708764  33.179937  41.928218  ...  0.000846    0.000000   \n",
       "..         ...        ...        ...        ...  ...       ...         ...   \n",
       "251  14.054537  20.985314  17.239734  14.071533  ...  0.214915    0.011155   \n",
       "252  34.506394  31.426402  43.393922  31.843180  ...  0.000323    0.000000   \n",
       "253  16.261944  21.707011  23.335648  15.048890  ...  0.211652    0.000000   \n",
       "254  31.767276  26.457804  23.830873  34.265851  ...  0.012331    0.000570   \n",
       "255  24.374723  16.869302  19.971988  23.994978  ...  0.021597    0.015831   \n",
       "\n",
       "      bicycle  street furniture  street item      rail      sign     stair   \n",
       "0    0.000870          0.000000     0.000000  0.046275  0.000000  0.000000  \\\n",
       "1    0.035923          0.000000     0.018433  0.000000  0.010576  0.000000   \n",
       "2    0.004912          0.000225     0.000000  0.003084  0.005137  0.006584   \n",
       "3    0.000000          0.000000     0.000033  0.000000  0.000000  0.000000   \n",
       "4    0.054873          0.026728     0.000000  0.003312  0.000724  0.000000   \n",
       "..        ...               ...          ...       ...       ...       ...   \n",
       "251  0.001769          0.000000     0.001685  0.000000  0.001056  0.000000   \n",
       "252  0.000000          0.000000     0.000000  0.032399  0.000000  0.000000   \n",
       "253  0.000000          0.000000     0.000000  0.012188  0.000000  0.000000   \n",
       "254  0.001679          0.000000     0.000000  0.066849  0.058823  0.000125   \n",
       "255  0.010834          0.000000     0.000000  0.000000  0.000472  0.000000   \n",
       "\n",
       "     lightning    ashcan  \n",
       "0     0.014580  0.000000  \n",
       "1     0.018152  0.000000  \n",
       "2     0.000000  0.000708  \n",
       "3     0.001624  0.000000  \n",
       "4     0.000245  0.000000  \n",
       "..         ...       ...  \n",
       "251   0.000000  0.000000  \n",
       "252   0.000000  0.000000  \n",
       "253   0.000056  0.000000  \n",
       "254   0.000014  0.000000  \n",
       "255   0.000000  0.000000  \n",
       "\n",
       "[256 rows x 32 columns]"
      ]
     },
     "execution_count": 165,
     "metadata": {},
     "output_type": "execute_result"
    }
   ],
   "source": [
    "# 读取数据\n",
    "data = pd.read_csv('0result264.csv')\n",
    "data"
   ]
  },
  {
   "cell_type": "code",
   "execution_count": 166,
   "id": "81fa8f20",
   "metadata": {
    "scrolled": true
   },
   "outputs": [
    {
     "name": "stdout",
     "output_type": "stream",
     "text": [
      "False\n"
     ]
    }
   ],
   "source": [
    "#判断是否有空值\n",
    "import numpy as np\n",
    "print(np.any(data.isnull()))"
   ]
  },
  {
   "cell_type": "markdown",
   "id": "99f3261e",
   "metadata": {},
   "source": [
    "# safety a"
   ]
  },
  {
   "cell_type": "code",
   "execution_count": 114,
   "id": "bbb2f4cd",
   "metadata": {},
   "outputs": [],
   "source": [
    "# 准备特征和标签\n",
    "X = data[['nature','vehicle','motorcycle','fence','building','road',\n",
    "         'rail','sky','person','wall','bicycle','sign','pole','sidewalk','traffic light' ]]\n",
    "y = data['mu-safa']"
   ]
  },
  {
   "cell_type": "code",
   "execution_count": 116,
   "id": "6c5db167",
   "metadata": {},
   "outputs": [
    {
     "name": "stdout",
     "output_type": "stream",
     "text": [
      "Best random state: 37\n",
      "Best mae: 2.6768785345484765\n"
     ]
    }
   ],
   "source": [
    "#0.1 mae \n",
    "# 定义要尝试的参数值\n",
    "best_random_state = 0\n",
    "best_r2_score = 0\n",
    "min_mae = 10\n",
    "\n",
    "for random_state in range(0,100):\n",
    "        X_train, X_test, y_train, y_test = train_test_split(X, y, test_size=0.1, random_state=random_state)\n",
    "        model = GradientBoostingRegressor()\n",
    "        model.fit(X_train, y_train)\n",
    "        y_pred = model.predict(X_test)\n",
    "        mae = mean_absolute_error(y_test, y_pred)\n",
    "        if mae < min_mae:\n",
    "            min_mae = mae\n",
    "            best_random_state = random_state\n",
    "\n",
    "print(f\"Best random state: {best_random_state}\")\n",
    "print(f\"Best mae: {min_mae}\")"
   ]
  },
  {
   "cell_type": "code",
   "execution_count": 14,
   "id": "5a796ac2",
   "metadata": {},
   "outputs": [
    {
     "name": "stdout",
     "output_type": "stream",
     "text": [
      "Best test size: 0.1\n",
      "Best random state: 93\n",
      "Best R2 score: 0.8103215872854117\n"
     ]
    }
   ],
   "source": [
    "#r2 max\n",
    "\n",
    "# 定义要尝试的参数值\n",
    "best_test_size = 0\n",
    "best_random_state = 0\n",
    "best_r2_score = 0\n",
    "\n",
    "for test_size in np.arange(0.01, 0.31, 0.01).round(2):\n",
    "    for random_state in range(1,100):\n",
    "        X_train, X_test, y_train, y_test = train_test_split(X, y, test_size=test_size, random_state=random_state)\n",
    "        model = GradientBoostingRegressor()\n",
    "        model.fit(X_train, y_train)\n",
    "        y_pred = model.predict(X_test)\n",
    "        r2 = r2_score(y_test, y_pred)\n",
    "        if r2 > best_r2_score:\n",
    "            best_r2_score = r2\n",
    "            best_test_size = test_size\n",
    "            best_random_state = random_state\n",
    "\n",
    "print(f\"Best test size: {best_test_size}\")\n",
    "print(f\"Best random state: {best_random_state}\")\n",
    "print(f\"Best R2 score: {best_r2_score}\")"
   ]
  },
  {
   "cell_type": "code",
   "execution_count": 41,
   "id": "40807dad",
   "metadata": {},
   "outputs": [
    {
     "name": "stdout",
     "output_type": "stream",
     "text": [
      "Best test size: 0.05\n",
      "Best random state: 18\n",
      "Best mae: 2.0750735523680155\n"
     ]
    }
   ],
   "source": [
    "#mae  min\n",
    "\n",
    "# 定义要尝试的参数值\n",
    "best_test_size = 0\n",
    "best_random_state = 0\n",
    "best_r2_score = 0\n",
    "min_mae = 10\n",
    "\n",
    "for test_size in np.arange(0.05, 0.31, 0.01).round(2):\n",
    "    for random_state in range(0,100):\n",
    "        X_train, X_test, y_train, y_test = train_test_split(X, y, test_size=test_size, random_state=random_state)\n",
    "        model = GradientBoostingRegressor()\n",
    "        model.fit(X_train, y_train)\n",
    "        y_pred = model.predict(X_test)\n",
    "        mae = mean_absolute_error(y_test, y_pred)\n",
    "        if mae < min_mae:\n",
    "            min_mae = mae\n",
    "            best_test_size = test_size\n",
    "            best_random_state = random_state\n",
    "\n",
    "print(f\"Best test size: {best_test_size}\")\n",
    "print(f\"Best random state: {best_random_state}\")\n",
    "print(f\"Best mae: {min_mae}\")"
   ]
  },
  {
   "cell_type": "code",
   "execution_count": 120,
   "id": "b23f01d2",
   "metadata": {
    "scrolled": true
   },
   "outputs": [
    {
     "name": "stdout",
     "output_type": "stream",
     "text": [
      "R2 scores:  [0.6197894453558377, 0.18912552207468403, 0.7394027339814403, 0.8117789950987924, 0.6240293734115152, 0.5737231617778675]\n",
      "MAE scores:  [4.129058831919328, 6.250555095, 3.3842855839346146, 2.6006537382348975, 4.119488321692307, 4.2069939872706925]\n"
     ]
    }
   ],
   "source": [
    "# 划分数据集为训练集和测试集\n",
    "X_train, X_test, y_train, y_test = train_test_split(X, y, test_size=0.1, random_state=37)\n",
    "\n",
    "#0.06 68\n",
    "#0.1 93\n",
    "\n",
    "\n",
    "# 初始化各个算法的模型对象\n",
    "linear_reg = LinearRegression()\n",
    "tree_reg = DecisionTreeRegressor()\n",
    "rf_reg = RandomForestRegressor()\n",
    "gb_reg = GradientBoostingRegressor()\n",
    "knn_reg = KNeighborsRegressor()\n",
    "svr_reg = SVR()\n",
    "\n",
    "# 训练模型\n",
    "linear_reg.fit(X_train, y_train)\n",
    "tree_reg.fit(X_train, y_train)\n",
    "rf_reg.fit(X_train, y_train)\n",
    "gb_reg.fit(X_train, y_train)\n",
    "knn_reg.fit(X_train, y_train)\n",
    "svr_reg.fit(X_train, y_train)\n",
    "\n",
    "# 对测试集进行预测，并计算R2和MAE指标\n",
    "models = [linear_reg, tree_reg, rf_reg, gb_reg, knn_reg, svr_reg]\n",
    "r2_scores = []\n",
    "mae_scores = []\n",
    "\n",
    "for model in models:\n",
    "    y_pred = model.predict(X_test)\n",
    "    r2_scores.append(r2_score(y_test, y_pred))\n",
    "    mae_scores.append(mean_absolute_error(y_test, y_pred))\n",
    "    \n",
    "# 打印每个模型的R2和MAE指标\n",
    "print(\"R2 scores: \", r2_scores)\n",
    "print(\"MAE scores: \", mae_scores)"
   ]
  },
  {
   "cell_type": "markdown",
   "id": "41dec008",
   "metadata": {},
   "source": [
    "# safetyB"
   ]
  },
  {
   "cell_type": "code",
   "execution_count": 121,
   "id": "8653eed0",
   "metadata": {},
   "outputs": [],
   "source": [
    "# 准备特征和标签\n",
    "X = data[['motorcycle', 'fence', 'nature','wall', 'vehicle','sky', 'rail', 'person', \n",
    "          'building', 'road', 'rider', 'traffic light', 'sidewalk', 'lightning', 'ashcan'\n",
    " ]]\n",
    "y = data['mu-safb']"
   ]
  },
  {
   "cell_type": "code",
   "execution_count": 122,
   "id": "c31e319b",
   "metadata": {},
   "outputs": [
    {
     "name": "stdout",
     "output_type": "stream",
     "text": [
      "Best random state: 7\n",
      "Best mae: 2.6669119949492477\n"
     ]
    }
   ],
   "source": [
    "#0.1 mae \n",
    "# 定义要尝试的参数值\n",
    "best_random_state = 0\n",
    "best_r2_score = 0\n",
    "min_mae = 10\n",
    "\n",
    "for random_state in range(0,100):\n",
    "        X_train, X_test, y_train, y_test = train_test_split(X, y, test_size=0.1, random_state=random_state)\n",
    "        model = GradientBoostingRegressor()\n",
    "        model.fit(X_train, y_train)\n",
    "        y_pred = model.predict(X_test)\n",
    "        mae = mean_absolute_error(y_test, y_pred)\n",
    "        if mae < min_mae:\n",
    "            min_mae = mae\n",
    "            best_random_state = random_state\n",
    "\n",
    "print(f\"Best random state: {best_random_state}\")\n",
    "print(f\"Best mae: {min_mae}\")"
   ]
  },
  {
   "cell_type": "code",
   "execution_count": null,
   "id": "667b1fe6",
   "metadata": {},
   "outputs": [],
   "source": [
    "#r2\n",
    "# 定义要尝试的参数值\n",
    "best_test_size = 0\n",
    "best_random_state = 0\n",
    "best_r2_score = 0\n",
    "\n",
    "for test_size in np.arange(0.1, 0.31, 0.01).round(2):\n",
    "    for random_state in range(0,100):\n",
    "        X_train, X_test, y_train, y_test = train_test_split(X, y, test_size=test_size, random_state=random_state)\n",
    "        model = GradientBoostingRegressor()\n",
    "        model.fit(X_train, y_train)\n",
    "        y_pred = model.predict(X_test)\n",
    "        r2 = r2_score(y_test, y_pred)\n",
    "        if r2 > best_r2_score:\n",
    "            best_r2_score = r2\n",
    "            best_test_size = test_size\n",
    "            best_random_state = random_state\n",
    "\n",
    "print(f\"Best test size: {best_test_size}\")\n",
    "print(f\"Best random state: {best_random_state}\")\n",
    "print(f\"Best R2 score: {best_r2_score}\")"
   ]
  },
  {
   "cell_type": "code",
   "execution_count": 43,
   "id": "d316e0d9",
   "metadata": {},
   "outputs": [
    {
     "name": "stdout",
     "output_type": "stream",
     "text": [
      "Best test size: 0.05\n",
      "Best random state: 7\n",
      "Best mae: 2.631006558015412\n"
     ]
    }
   ],
   "source": [
    "#mae\n",
    "# 定义要尝试的参数值\n",
    "best_test_size = 0\n",
    "best_random_state = 0\n",
    "best_r2_score = 0\n",
    "min_mae = 10\n",
    "\n",
    "for test_size in np.arange(0.05, 0.31, 0.01).round(2):\n",
    "    for random_state in range(0,100):\n",
    "        X_train, X_test, y_train, y_test = train_test_split(X, y, test_size=test_size, random_state=random_state)\n",
    "        model = GradientBoostingRegressor()\n",
    "        model.fit(X_train, y_train)\n",
    "        y_pred = model.predict(X_test)\n",
    "        mae = mean_absolute_error(y_test, y_pred)\n",
    "        if mae < min_mae:\n",
    "            min_mae = mae\n",
    "            best_test_size = test_size\n",
    "            best_random_state = random_state\n",
    "\n",
    "print(f\"Best test size: {best_test_size}\")\n",
    "print(f\"Best random state: {best_random_state}\")\n",
    "print(f\"Best mae: {min_mae}\")"
   ]
  },
  {
   "cell_type": "code",
   "execution_count": 123,
   "id": "3e1360dd",
   "metadata": {},
   "outputs": [
    {
     "name": "stdout",
     "output_type": "stream",
     "text": [
      "R2 scores:  [0.6206096278529869, 0.13069549539738645, 0.7509655672484756, 0.7628747227816933, 0.6500735130197549, 0.5501958229849023]\n",
      "MAE scores:  [3.4723028409201997, 4.764148714615384, 2.8242009068076936, 2.7001394115889257, 3.2952406382307697, 3.883909853542187]\n"
     ]
    }
   ],
   "source": [
    "# 划分数据集为训练集和测试集\n",
    "X_train, X_test, y_train, y_test = train_test_split(X, y, test_size=0.1, random_state=7)\n",
    "\n",
    "#0.1 52\n",
    "\n",
    "# 初始化各个算法的模型对象\n",
    "linear_reg = LinearRegression()\n",
    "tree_reg = DecisionTreeRegressor()\n",
    "rf_reg = RandomForestRegressor()\n",
    "gb_reg = GradientBoostingRegressor()\n",
    "knn_reg = KNeighborsRegressor()\n",
    "svr_reg = SVR()\n",
    "\n",
    "# 训练模型\n",
    "linear_reg.fit(X_train, y_train)\n",
    "tree_reg.fit(X_train, y_train)\n",
    "rf_reg.fit(X_train, y_train)\n",
    "gb_reg.fit(X_train, y_train)\n",
    "knn_reg.fit(X_train, y_train)\n",
    "svr_reg.fit(X_train, y_train)\n",
    "\n",
    "\n",
    "# 对测试集进行预测，并计算R2和MAE指标\n",
    "models = [linear_reg, tree_reg, rf_reg, gb_reg, knn_reg, svr_reg]\n",
    "r2_scores = []\n",
    "mae_scores = []\n",
    "\n",
    "for model in models:\n",
    "    y_pred = model.predict(X_test)\n",
    "    r2_scores.append(r2_score(y_test, y_pred))\n",
    "    mae_scores.append(mean_absolute_error(y_test, y_pred))\n",
    "    \n",
    "# 打印每个模型的R2和MAE指标\n",
    "print(\"R2 scores: \", r2_scores)\n",
    "print(\"MAE scores: \", mae_scores)"
   ]
  },
  {
   "cell_type": "markdown",
   "id": "ef6f6dd7",
   "metadata": {},
   "source": [
    "# safetyc"
   ]
  },
  {
   "cell_type": "code",
   "execution_count": 188,
   "id": "bc949e56",
   "metadata": {},
   "outputs": [],
   "source": [
    "# 准备特征和标签\n",
    "X = data[['nature', 'vehicle', 'road', 'building', 'sidewalk', 'motorcycle', 'sign', \n",
    "          'rail', 'fence', 'lightning','sky', 'wall', 'traffic light', 'bicycle', 'traffic sign'\n",
    " ]]\n",
    "y = data['mu-safc']"
   ]
  },
  {
   "cell_type": "code",
   "execution_count": 189,
   "id": "86d7fe0e",
   "metadata": {},
   "outputs": [
    {
     "name": "stdout",
     "output_type": "stream",
     "text": [
      "Best random state: 6\n",
      "Best mae: 3.49514335011276\n"
     ]
    }
   ],
   "source": [
    "#0.1 mae \n",
    "# 定义要尝试的参数值\n",
    "best_random_state = 0\n",
    "best_r2_score = 0\n",
    "min_mae = 10\n",
    "\n",
    "for random_state in range(0,100):\n",
    "        X_train, X_test, y_train, y_test = train_test_split(X, y, test_size=0.1, random_state=random_state)\n",
    "        model = GradientBoostingRegressor()\n",
    "        model.fit(X_train, y_train)\n",
    "        y_pred = model.predict(X_test)\n",
    "        mae = mean_absolute_error(y_test, y_pred)\n",
    "        if mae < min_mae:\n",
    "            min_mae = mae\n",
    "            best_random_state = random_state\n",
    "\n",
    "print(f\"Best random state: {best_random_state}\")\n",
    "print(f\"Best mae: {min_mae}\")"
   ]
  },
  {
   "cell_type": "code",
   "execution_count": 190,
   "id": "4d397a73",
   "metadata": {},
   "outputs": [
    {
     "name": "stdout",
     "output_type": "stream",
     "text": [
      "R2 scores:  [0.38911257750289474, -0.08135324908885044, 0.44894650458444385, 0.6301196460848282, 0.48072258591708816, 0.3349714539553801]\n",
      "MAE scores:  [4.889616376868899, 5.525434583846153, 3.967598541476925, 3.4549668443827346, 4.342281545999999, 4.662971579477682]\n"
     ]
    }
   ],
   "source": [
    "# 划分数据集为训练集和测试集\n",
    "X_train, X_test, y_train, y_test = train_test_split(X, y, test_size=0.1, random_state=6)\n",
    "\n",
    "#0.25 43\n",
    "\n",
    "# 初始化各个算法的模型对象\n",
    "linear_reg = LinearRegression()\n",
    "tree_reg = DecisionTreeRegressor()\n",
    "rf_reg = RandomForestRegressor()\n",
    "gb_reg = GradientBoostingRegressor()\n",
    "knn_reg = KNeighborsRegressor()\n",
    "svr_reg = SVR()\n",
    "\n",
    "# 训练模型\n",
    "linear_reg.fit(X_train, y_train)\n",
    "tree_reg.fit(X_train, y_train)\n",
    "rf_reg.fit(X_train, y_train)\n",
    "gb_reg.fit(X_train, y_train)\n",
    "knn_reg.fit(X_train, y_train)\n",
    "svr_reg.fit(X_train, y_train)\n",
    "\n",
    "\n",
    "# 对测试集进行预测，并计算R2和MAE指标\n",
    "models = [linear_reg, tree_reg, rf_reg, gb_reg, knn_reg, svr_reg]\n",
    "r2_scores = []\n",
    "mae_scores = []\n",
    "\n",
    "for model in models:\n",
    "    y_pred = model.predict(X_test)\n",
    "    r2_scores.append(r2_score(y_test, y_pred))\n",
    "    mae_scores.append(mean_absolute_error(y_test, y_pred))\n",
    "    \n",
    "# 打印每个模型的R2和MAE指标\n",
    "print(\"R2 scores: \", r2_scores)\n",
    "print(\"MAE scores: \", mae_scores)"
   ]
  },
  {
   "cell_type": "code",
   "execution_count": 145,
   "id": "9006887c",
   "metadata": {
    "collapsed": true
   },
   "outputs": [
    {
     "ename": "KeyboardInterrupt",
     "evalue": "",
     "output_type": "error",
     "traceback": [
      "\u001b[1;31m---------------------------------------------------------------------------\u001b[0m",
      "\u001b[1;31mKeyboardInterrupt\u001b[0m                         Traceback (most recent call last)",
      "Cell \u001b[1;32mIn[145], line 9\u001b[0m\n\u001b[0;32m      7\u001b[0m \u001b[38;5;28;01mfor\u001b[39;00m test_size \u001b[38;5;129;01min\u001b[39;00m np\u001b[38;5;241m.\u001b[39marange(\u001b[38;5;241m0.05\u001b[39m, \u001b[38;5;241m0.31\u001b[39m, \u001b[38;5;241m0.01\u001b[39m)\u001b[38;5;241m.\u001b[39mround(\u001b[38;5;241m2\u001b[39m):\n\u001b[0;32m      8\u001b[0m     \u001b[38;5;28;01mfor\u001b[39;00m random_state \u001b[38;5;129;01min\u001b[39;00m \u001b[38;5;28mrange\u001b[39m(\u001b[38;5;241m0\u001b[39m,\u001b[38;5;241m100\u001b[39m):\n\u001b[1;32m----> 9\u001b[0m         X_train, X_test, y_train, y_test \u001b[38;5;241m=\u001b[39m \u001b[43mtrain_test_split\u001b[49m\u001b[43m(\u001b[49m\u001b[43mX\u001b[49m\u001b[43m,\u001b[49m\u001b[43m \u001b[49m\u001b[43my\u001b[49m\u001b[43m,\u001b[49m\u001b[43m \u001b[49m\u001b[43mtest_size\u001b[49m\u001b[38;5;241;43m=\u001b[39;49m\u001b[43mtest_size\u001b[49m\u001b[43m,\u001b[49m\u001b[43m \u001b[49m\u001b[43mrandom_state\u001b[49m\u001b[38;5;241;43m=\u001b[39;49m\u001b[43mrandom_state\u001b[49m\u001b[43m)\u001b[49m\n\u001b[0;32m     10\u001b[0m         model \u001b[38;5;241m=\u001b[39m LinearRegression()\n\u001b[0;32m     11\u001b[0m         model\u001b[38;5;241m.\u001b[39mfit(X_train, y_train)\n",
      "File \u001b[1;32mD:\\Anaconda\\lib\\site-packages\\sklearn\\model_selection\\_split.py:2154\u001b[0m, in \u001b[0;36mtrain_test_split\u001b[1;34m(*arrays, **options)\u001b[0m\n\u001b[0;32m   2148\u001b[0m     cv \u001b[38;5;241m=\u001b[39m CVClass(test_size\u001b[38;5;241m=\u001b[39mn_test,\n\u001b[0;32m   2149\u001b[0m                  train_size\u001b[38;5;241m=\u001b[39mn_train,\n\u001b[0;32m   2150\u001b[0m                  random_state\u001b[38;5;241m=\u001b[39mrandom_state)\n\u001b[0;32m   2152\u001b[0m     train, test \u001b[38;5;241m=\u001b[39m \u001b[38;5;28mnext\u001b[39m(cv\u001b[38;5;241m.\u001b[39msplit(X\u001b[38;5;241m=\u001b[39marrays[\u001b[38;5;241m0\u001b[39m], y\u001b[38;5;241m=\u001b[39mstratify))\n\u001b[1;32m-> 2154\u001b[0m \u001b[38;5;28;01mreturn\u001b[39;00m \u001b[38;5;28;43mlist\u001b[39;49m\u001b[43m(\u001b[49m\u001b[43mchain\u001b[49m\u001b[38;5;241;43m.\u001b[39;49m\u001b[43mfrom_iterable\u001b[49m\u001b[43m(\u001b[49m\u001b[43m(\u001b[49m\u001b[43m_safe_indexing\u001b[49m\u001b[43m(\u001b[49m\u001b[43ma\u001b[49m\u001b[43m,\u001b[49m\u001b[43m \u001b[49m\u001b[43mtrain\u001b[49m\u001b[43m)\u001b[49m\u001b[43m,\u001b[49m\n\u001b[0;32m   2155\u001b[0m \u001b[43m                                 \u001b[49m\u001b[43m_safe_indexing\u001b[49m\u001b[43m(\u001b[49m\u001b[43ma\u001b[49m\u001b[43m,\u001b[49m\u001b[43m \u001b[49m\u001b[43mtest\u001b[49m\u001b[43m)\u001b[49m\u001b[43m)\u001b[49m\u001b[43m \u001b[49m\u001b[38;5;28;43;01mfor\u001b[39;49;00m\u001b[43m \u001b[49m\u001b[43ma\u001b[49m\u001b[43m \u001b[49m\u001b[38;5;129;43;01min\u001b[39;49;00m\u001b[43m \u001b[49m\u001b[43marrays\u001b[49m\u001b[43m)\u001b[49m\u001b[43m)\u001b[49m\n",
      "File \u001b[1;32mD:\\Anaconda\\lib\\site-packages\\sklearn\\model_selection\\_split.py:2154\u001b[0m, in \u001b[0;36m<genexpr>\u001b[1;34m(.0)\u001b[0m\n\u001b[0;32m   2148\u001b[0m     cv \u001b[38;5;241m=\u001b[39m CVClass(test_size\u001b[38;5;241m=\u001b[39mn_test,\n\u001b[0;32m   2149\u001b[0m                  train_size\u001b[38;5;241m=\u001b[39mn_train,\n\u001b[0;32m   2150\u001b[0m                  random_state\u001b[38;5;241m=\u001b[39mrandom_state)\n\u001b[0;32m   2152\u001b[0m     train, test \u001b[38;5;241m=\u001b[39m \u001b[38;5;28mnext\u001b[39m(cv\u001b[38;5;241m.\u001b[39msplit(X\u001b[38;5;241m=\u001b[39marrays[\u001b[38;5;241m0\u001b[39m], y\u001b[38;5;241m=\u001b[39mstratify))\n\u001b[1;32m-> 2154\u001b[0m \u001b[38;5;28;01mreturn\u001b[39;00m \u001b[38;5;28mlist\u001b[39m(chain\u001b[38;5;241m.\u001b[39mfrom_iterable((\u001b[43m_safe_indexing\u001b[49m\u001b[43m(\u001b[49m\u001b[43ma\u001b[49m\u001b[43m,\u001b[49m\u001b[43m \u001b[49m\u001b[43mtrain\u001b[49m\u001b[43m)\u001b[49m,\n\u001b[0;32m   2155\u001b[0m                                  _safe_indexing(a, test)) \u001b[38;5;28;01mfor\u001b[39;00m a \u001b[38;5;129;01min\u001b[39;00m arrays))\n",
      "File \u001b[1;32mD:\\Anaconda\\lib\\site-packages\\sklearn\\utils\\__init__.py:393\u001b[0m, in \u001b[0;36m_safe_indexing\u001b[1;34m(X, indices, axis)\u001b[0m\n\u001b[0;32m    387\u001b[0m     \u001b[38;5;28;01mraise\u001b[39;00m \u001b[38;5;167;01mValueError\u001b[39;00m(\n\u001b[0;32m    388\u001b[0m         \u001b[38;5;124m\"\u001b[39m\u001b[38;5;124mSpecifying the columns using strings is only supported for \u001b[39m\u001b[38;5;124m\"\u001b[39m\n\u001b[0;32m    389\u001b[0m         \u001b[38;5;124m\"\u001b[39m\u001b[38;5;124mpandas DataFrames\u001b[39m\u001b[38;5;124m\"\u001b[39m\n\u001b[0;32m    390\u001b[0m     )\n\u001b[0;32m    392\u001b[0m \u001b[38;5;28;01mif\u001b[39;00m \u001b[38;5;28mhasattr\u001b[39m(X, \u001b[38;5;124m\"\u001b[39m\u001b[38;5;124miloc\u001b[39m\u001b[38;5;124m\"\u001b[39m):\n\u001b[1;32m--> 393\u001b[0m     \u001b[38;5;28;01mreturn\u001b[39;00m \u001b[43m_pandas_indexing\u001b[49m\u001b[43m(\u001b[49m\u001b[43mX\u001b[49m\u001b[43m,\u001b[49m\u001b[43m \u001b[49m\u001b[43mindices\u001b[49m\u001b[43m,\u001b[49m\u001b[43m \u001b[49m\u001b[43mindices_dtype\u001b[49m\u001b[43m,\u001b[49m\u001b[43m \u001b[49m\u001b[43maxis\u001b[49m\u001b[38;5;241;43m=\u001b[39;49m\u001b[43maxis\u001b[49m\u001b[43m)\u001b[49m\n\u001b[0;32m    394\u001b[0m \u001b[38;5;28;01melif\u001b[39;00m \u001b[38;5;28mhasattr\u001b[39m(X, \u001b[38;5;124m\"\u001b[39m\u001b[38;5;124mshape\u001b[39m\u001b[38;5;124m\"\u001b[39m):\n\u001b[0;32m    395\u001b[0m     \u001b[38;5;28;01mreturn\u001b[39;00m _array_indexing(X, indices, indices_dtype, axis\u001b[38;5;241m=\u001b[39maxis)\n",
      "File \u001b[1;32mD:\\Anaconda\\lib\\site-packages\\sklearn\\utils\\__init__.py:195\u001b[0m, in \u001b[0;36m_pandas_indexing\u001b[1;34m(X, key, key_dtype, axis)\u001b[0m\n\u001b[0;32m    193\u001b[0m \u001b[38;5;66;03m# check whether we should index with loc or iloc\u001b[39;00m\n\u001b[0;32m    194\u001b[0m indexer \u001b[38;5;241m=\u001b[39m X\u001b[38;5;241m.\u001b[39miloc \u001b[38;5;28;01mif\u001b[39;00m key_dtype \u001b[38;5;241m==\u001b[39m \u001b[38;5;124m'\u001b[39m\u001b[38;5;124mint\u001b[39m\u001b[38;5;124m'\u001b[39m \u001b[38;5;28;01melse\u001b[39;00m X\u001b[38;5;241m.\u001b[39mloc\n\u001b[1;32m--> 195\u001b[0m \u001b[38;5;28;01mreturn\u001b[39;00m indexer[:, key] \u001b[38;5;28;01mif\u001b[39;00m axis \u001b[38;5;28;01melse\u001b[39;00m \u001b[43mindexer\u001b[49m\u001b[43m[\u001b[49m\u001b[43mkey\u001b[49m\u001b[43m]\u001b[49m\n",
      "File \u001b[1;32mD:\\Anaconda\\lib\\site-packages\\pandas\\core\\indexing.py:1103\u001b[0m, in \u001b[0;36m_LocationIndexer.__getitem__\u001b[1;34m(self, key)\u001b[0m\n\u001b[0;32m   1100\u001b[0m axis \u001b[38;5;241m=\u001b[39m \u001b[38;5;28mself\u001b[39m\u001b[38;5;241m.\u001b[39maxis \u001b[38;5;129;01mor\u001b[39;00m \u001b[38;5;241m0\u001b[39m\n\u001b[0;32m   1102\u001b[0m maybe_callable \u001b[38;5;241m=\u001b[39m com\u001b[38;5;241m.\u001b[39mapply_if_callable(key, \u001b[38;5;28mself\u001b[39m\u001b[38;5;241m.\u001b[39mobj)\n\u001b[1;32m-> 1103\u001b[0m \u001b[38;5;28;01mreturn\u001b[39;00m \u001b[38;5;28;43mself\u001b[39;49m\u001b[38;5;241;43m.\u001b[39;49m\u001b[43m_getitem_axis\u001b[49m\u001b[43m(\u001b[49m\u001b[43mmaybe_callable\u001b[49m\u001b[43m,\u001b[49m\u001b[43m \u001b[49m\u001b[43maxis\u001b[49m\u001b[38;5;241;43m=\u001b[39;49m\u001b[43maxis\u001b[49m\u001b[43m)\u001b[49m\n",
      "File \u001b[1;32mD:\\Anaconda\\lib\\site-packages\\pandas\\core\\indexing.py:1647\u001b[0m, in \u001b[0;36m_iLocIndexer._getitem_axis\u001b[1;34m(self, key, axis)\u001b[0m\n\u001b[0;32m   1645\u001b[0m \u001b[38;5;66;03m# a list of integers\u001b[39;00m\n\u001b[0;32m   1646\u001b[0m \u001b[38;5;28;01melif\u001b[39;00m is_list_like_indexer(key):\n\u001b[1;32m-> 1647\u001b[0m     \u001b[38;5;28;01mreturn\u001b[39;00m \u001b[38;5;28;43mself\u001b[39;49m\u001b[38;5;241;43m.\u001b[39;49m\u001b[43m_get_list_axis\u001b[49m\u001b[43m(\u001b[49m\u001b[43mkey\u001b[49m\u001b[43m,\u001b[49m\u001b[43m \u001b[49m\u001b[43maxis\u001b[49m\u001b[38;5;241;43m=\u001b[39;49m\u001b[43maxis\u001b[49m\u001b[43m)\u001b[49m\n\u001b[0;32m   1649\u001b[0m \u001b[38;5;66;03m# a single integer\u001b[39;00m\n\u001b[0;32m   1650\u001b[0m \u001b[38;5;28;01melse\u001b[39;00m:\n\u001b[0;32m   1651\u001b[0m     key \u001b[38;5;241m=\u001b[39m item_from_zerodim(key)\n",
      "File \u001b[1;32mD:\\Anaconda\\lib\\site-packages\\pandas\\core\\indexing.py:1618\u001b[0m, in \u001b[0;36m_iLocIndexer._get_list_axis\u001b[1;34m(self, key, axis)\u001b[0m\n\u001b[0;32m   1601\u001b[0m \u001b[38;5;250m\u001b[39m\u001b[38;5;124;03m\"\"\"\u001b[39;00m\n\u001b[0;32m   1602\u001b[0m \u001b[38;5;124;03mReturn Series values by list or array of integers.\u001b[39;00m\n\u001b[0;32m   1603\u001b[0m \n\u001b[1;32m   (...)\u001b[0m\n\u001b[0;32m   1615\u001b[0m \u001b[38;5;124;03m`axis` can only be zero.\u001b[39;00m\n\u001b[0;32m   1616\u001b[0m \u001b[38;5;124;03m\"\"\"\u001b[39;00m\n\u001b[0;32m   1617\u001b[0m \u001b[38;5;28;01mtry\u001b[39;00m:\n\u001b[1;32m-> 1618\u001b[0m     \u001b[38;5;28;01mreturn\u001b[39;00m \u001b[38;5;28;43mself\u001b[39;49m\u001b[38;5;241;43m.\u001b[39;49m\u001b[43mobj\u001b[49m\u001b[38;5;241;43m.\u001b[39;49m\u001b[43m_take_with_is_copy\u001b[49m\u001b[43m(\u001b[49m\u001b[43mkey\u001b[49m\u001b[43m,\u001b[49m\u001b[43m \u001b[49m\u001b[43maxis\u001b[49m\u001b[38;5;241;43m=\u001b[39;49m\u001b[43maxis\u001b[49m\u001b[43m)\u001b[49m\n\u001b[0;32m   1619\u001b[0m \u001b[38;5;28;01mexcept\u001b[39;00m \u001b[38;5;167;01mIndexError\u001b[39;00m \u001b[38;5;28;01mas\u001b[39;00m err:\n\u001b[0;32m   1620\u001b[0m     \u001b[38;5;66;03m# re-raise with different error message\u001b[39;00m\n\u001b[0;32m   1621\u001b[0m     \u001b[38;5;28;01mraise\u001b[39;00m \u001b[38;5;167;01mIndexError\u001b[39;00m(\u001b[38;5;124m\"\u001b[39m\u001b[38;5;124mpositional indexers are out-of-bounds\u001b[39m\u001b[38;5;124m\"\u001b[39m) \u001b[38;5;28;01mfrom\u001b[39;00m \u001b[38;5;21;01merr\u001b[39;00m\n",
      "File \u001b[1;32mD:\\Anaconda\\lib\\site-packages\\pandas\\core\\generic.py:3948\u001b[0m, in \u001b[0;36mNDFrame._take_with_is_copy\u001b[1;34m(self, indices, axis)\u001b[0m\n\u001b[0;32m   3940\u001b[0m \u001b[38;5;28;01mdef\u001b[39;00m \u001b[38;5;21m_take_with_is_copy\u001b[39m(\u001b[38;5;28mself\u001b[39m: NDFrameT, indices, axis: Axis \u001b[38;5;241m=\u001b[39m \u001b[38;5;241m0\u001b[39m) \u001b[38;5;241m-\u001b[39m\u001b[38;5;241m>\u001b[39m NDFrameT:\n\u001b[0;32m   3941\u001b[0m \u001b[38;5;250m    \u001b[39m\u001b[38;5;124;03m\"\"\"\u001b[39;00m\n\u001b[0;32m   3942\u001b[0m \u001b[38;5;124;03m    Internal version of the `take` method that sets the `_is_copy`\u001b[39;00m\n\u001b[0;32m   3943\u001b[0m \u001b[38;5;124;03m    attribute to keep track of the parent dataframe (using in indexing\u001b[39;00m\n\u001b[1;32m   (...)\u001b[0m\n\u001b[0;32m   3946\u001b[0m \u001b[38;5;124;03m    See the docstring of `take` for full explanation of the parameters.\u001b[39;00m\n\u001b[0;32m   3947\u001b[0m \u001b[38;5;124;03m    \"\"\"\u001b[39;00m\n\u001b[1;32m-> 3948\u001b[0m     result \u001b[38;5;241m=\u001b[39m \u001b[38;5;28;43mself\u001b[39;49m\u001b[38;5;241;43m.\u001b[39;49m\u001b[43m_take\u001b[49m\u001b[43m(\u001b[49m\u001b[43mindices\u001b[49m\u001b[38;5;241;43m=\u001b[39;49m\u001b[43mindices\u001b[49m\u001b[43m,\u001b[49m\u001b[43m \u001b[49m\u001b[43maxis\u001b[49m\u001b[38;5;241;43m=\u001b[39;49m\u001b[43maxis\u001b[49m\u001b[43m)\u001b[49m\n\u001b[0;32m   3949\u001b[0m     \u001b[38;5;66;03m# Maybe set copy if we didn't actually change the index.\u001b[39;00m\n\u001b[0;32m   3950\u001b[0m     \u001b[38;5;28;01mif\u001b[39;00m \u001b[38;5;129;01mnot\u001b[39;00m result\u001b[38;5;241m.\u001b[39m_get_axis(axis)\u001b[38;5;241m.\u001b[39mequals(\u001b[38;5;28mself\u001b[39m\u001b[38;5;241m.\u001b[39m_get_axis(axis)):\n",
      "File \u001b[1;32mD:\\Anaconda\\lib\\site-packages\\pandas\\core\\generic.py:3932\u001b[0m, in \u001b[0;36mNDFrame._take\u001b[1;34m(self, indices, axis, convert_indices)\u001b[0m\n\u001b[0;32m   3924\u001b[0m     \u001b[38;5;28;01mif\u001b[39;00m (\n\u001b[0;32m   3925\u001b[0m         axis \u001b[38;5;241m==\u001b[39m \u001b[38;5;241m0\u001b[39m\n\u001b[0;32m   3926\u001b[0m         \u001b[38;5;129;01mand\u001b[39;00m indices\u001b[38;5;241m.\u001b[39mndim \u001b[38;5;241m==\u001b[39m \u001b[38;5;241m1\u001b[39m\n\u001b[0;32m   3927\u001b[0m         \u001b[38;5;129;01mand\u001b[39;00m using_copy_on_write()\n\u001b[0;32m   3928\u001b[0m         \u001b[38;5;129;01mand\u001b[39;00m is_range_indexer(indices, \u001b[38;5;28mlen\u001b[39m(\u001b[38;5;28mself\u001b[39m))\n\u001b[0;32m   3929\u001b[0m     ):\n\u001b[0;32m   3930\u001b[0m         \u001b[38;5;28;01mreturn\u001b[39;00m \u001b[38;5;28mself\u001b[39m\u001b[38;5;241m.\u001b[39mcopy(deep\u001b[38;5;241m=\u001b[39m\u001b[38;5;28;01mNone\u001b[39;00m)\n\u001b[1;32m-> 3932\u001b[0m new_data \u001b[38;5;241m=\u001b[39m \u001b[38;5;28;43mself\u001b[39;49m\u001b[38;5;241;43m.\u001b[39;49m\u001b[43m_mgr\u001b[49m\u001b[38;5;241;43m.\u001b[39;49m\u001b[43mtake\u001b[49m\u001b[43m(\u001b[49m\n\u001b[0;32m   3933\u001b[0m \u001b[43m    \u001b[49m\u001b[43mindices\u001b[49m\u001b[43m,\u001b[49m\n\u001b[0;32m   3934\u001b[0m \u001b[43m    \u001b[49m\u001b[43maxis\u001b[49m\u001b[38;5;241;43m=\u001b[39;49m\u001b[38;5;28;43mself\u001b[39;49m\u001b[38;5;241;43m.\u001b[39;49m\u001b[43m_get_block_manager_axis\u001b[49m\u001b[43m(\u001b[49m\u001b[43maxis\u001b[49m\u001b[43m)\u001b[49m\u001b[43m,\u001b[49m\n\u001b[0;32m   3935\u001b[0m \u001b[43m    \u001b[49m\u001b[43mverify\u001b[49m\u001b[38;5;241;43m=\u001b[39;49m\u001b[38;5;28;43;01mTrue\u001b[39;49;00m\u001b[43m,\u001b[49m\n\u001b[0;32m   3936\u001b[0m \u001b[43m    \u001b[49m\u001b[43mconvert_indices\u001b[49m\u001b[38;5;241;43m=\u001b[39;49m\u001b[43mconvert_indices\u001b[49m\u001b[43m,\u001b[49m\n\u001b[0;32m   3937\u001b[0m \u001b[43m\u001b[49m\u001b[43m)\u001b[49m\n\u001b[0;32m   3938\u001b[0m \u001b[38;5;28;01mreturn\u001b[39;00m \u001b[38;5;28mself\u001b[39m\u001b[38;5;241m.\u001b[39m_constructor(new_data)\u001b[38;5;241m.\u001b[39m__finalize__(\u001b[38;5;28mself\u001b[39m, method\u001b[38;5;241m=\u001b[39m\u001b[38;5;124m\"\u001b[39m\u001b[38;5;124mtake\u001b[39m\u001b[38;5;124m\"\u001b[39m)\n",
      "File \u001b[1;32mD:\\Anaconda\\lib\\site-packages\\pandas\\core\\internals\\managers.py:963\u001b[0m, in \u001b[0;36mBaseBlockManager.take\u001b[1;34m(self, indexer, axis, verify, convert_indices)\u001b[0m\n\u001b[0;32m    960\u001b[0m     indexer \u001b[38;5;241m=\u001b[39m maybe_convert_indices(indexer, n, verify\u001b[38;5;241m=\u001b[39mverify)\n\u001b[0;32m    962\u001b[0m new_labels \u001b[38;5;241m=\u001b[39m \u001b[38;5;28mself\u001b[39m\u001b[38;5;241m.\u001b[39maxes[axis]\u001b[38;5;241m.\u001b[39mtake(indexer)\n\u001b[1;32m--> 963\u001b[0m \u001b[38;5;28;01mreturn\u001b[39;00m \u001b[38;5;28;43mself\u001b[39;49m\u001b[38;5;241;43m.\u001b[39;49m\u001b[43mreindex_indexer\u001b[49m\u001b[43m(\u001b[49m\n\u001b[0;32m    964\u001b[0m \u001b[43m    \u001b[49m\u001b[43mnew_axis\u001b[49m\u001b[38;5;241;43m=\u001b[39;49m\u001b[43mnew_labels\u001b[49m\u001b[43m,\u001b[49m\n\u001b[0;32m    965\u001b[0m \u001b[43m    \u001b[49m\u001b[43mindexer\u001b[49m\u001b[38;5;241;43m=\u001b[39;49m\u001b[43mindexer\u001b[49m\u001b[43m,\u001b[49m\n\u001b[0;32m    966\u001b[0m \u001b[43m    \u001b[49m\u001b[43maxis\u001b[49m\u001b[38;5;241;43m=\u001b[39;49m\u001b[43maxis\u001b[49m\u001b[43m,\u001b[49m\n\u001b[0;32m    967\u001b[0m \u001b[43m    \u001b[49m\u001b[43mallow_dups\u001b[49m\u001b[38;5;241;43m=\u001b[39;49m\u001b[38;5;28;43;01mTrue\u001b[39;49;00m\u001b[43m,\u001b[49m\n\u001b[0;32m    968\u001b[0m \u001b[43m    \u001b[49m\u001b[43mcopy\u001b[49m\u001b[38;5;241;43m=\u001b[39;49m\u001b[38;5;28;43;01mNone\u001b[39;49;00m\u001b[43m,\u001b[49m\n\u001b[0;32m    969\u001b[0m \u001b[43m\u001b[49m\u001b[43m)\u001b[49m\n",
      "File \u001b[1;32mD:\\Anaconda\\lib\\site-packages\\pandas\\core\\internals\\managers.py:765\u001b[0m, in \u001b[0;36mBaseBlockManager.reindex_indexer\u001b[1;34m(self, new_axis, indexer, axis, fill_value, allow_dups, copy, only_slice, use_na_proxy)\u001b[0m\n\u001b[0;32m    762\u001b[0m \u001b[38;5;28;01mif\u001b[39;00m axis \u001b[38;5;241m==\u001b[39m \u001b[38;5;241m1\u001b[39m:\n\u001b[0;32m    763\u001b[0m     \u001b[38;5;66;03m# We can avoid the need to rebuild these\u001b[39;00m\n\u001b[0;32m    764\u001b[0m     new_mgr\u001b[38;5;241m.\u001b[39m_blknos \u001b[38;5;241m=\u001b[39m \u001b[38;5;28mself\u001b[39m\u001b[38;5;241m.\u001b[39mblknos\u001b[38;5;241m.\u001b[39mcopy()\n\u001b[1;32m--> 765\u001b[0m     new_mgr\u001b[38;5;241m.\u001b[39m_blklocs \u001b[38;5;241m=\u001b[39m \u001b[38;5;28;43mself\u001b[39;49m\u001b[38;5;241;43m.\u001b[39;49m\u001b[43mblklocs\u001b[49m\u001b[38;5;241;43m.\u001b[39;49m\u001b[43mcopy\u001b[49m\u001b[43m(\u001b[49m\u001b[43m)\u001b[49m\n\u001b[0;32m    766\u001b[0m \u001b[38;5;28;01mreturn\u001b[39;00m new_mgr\n",
      "\u001b[1;31mKeyboardInterrupt\u001b[0m: "
     ]
    }
   ],
   "source": [
    "#r2\n",
    "# 定义要尝试的参数值\n",
    "best_test_size = 0\n",
    "best_random_state = 0\n",
    "best_r2_score = 0\n",
    "\n",
    "for test_size in np.arange(0.05, 0.31, 0.01).round(2):\n",
    "    for random_state in range(0,100):\n",
    "        X_train, X_test, y_train, y_test = train_test_split(X, y, test_size=test_size, random_state=random_state)\n",
    "        model = GradientBoostingRegressor()\n",
    "        model.fit(X_train, y_train)\n",
    "        y_pred = model.predict(X_test)\n",
    "        r2 = r2_score(y_test, y_pred)\n",
    "        if r2 > best_r2_score:\n",
    "            best_r2_score = r2\n",
    "            best_test_size = test_size\n",
    "            best_random_state = random_state\n",
    "\n",
    "print(f\"Best test size: {best_test_size}\")\n",
    "print(f\"Best random state: {best_random_state}\")\n",
    "print(f\"Best R2 score: {best_r2_score}\")"
   ]
  },
  {
   "cell_type": "code",
   "execution_count": 69,
   "id": "c38c3c8e",
   "metadata": {},
   "outputs": [
    {
     "name": "stdout",
     "output_type": "stream",
     "text": [
      "Best test size: 0.01\n",
      "Best random state: 69\n",
      "Best mae: 1.4281770731407448\n"
     ]
    }
   ],
   "source": [
    "#mae\n",
    "# 定义要尝试的参数值\n",
    "best_test_size = 0\n",
    "best_random_state = 0\n",
    "best_r2_score = 0\n",
    "min_mae = 10\n",
    "\n",
    "for test_size in np.arange(0.01, 0.31, 0.01).round(2):\n",
    "    for random_state in range(0,100):\n",
    "        X_train, X_test, y_train, y_test = train_test_split(X, y, test_size=test_size, random_state=random_state)\n",
    "        model = GradientBoostingRegressor()\n",
    "        model.fit(X_train, y_train)\n",
    "        y_pred = model.predict(X_test)\n",
    "        mae = mean_absolute_error(y_test, y_pred)\n",
    "        if mae < min_mae:\n",
    "            min_mae = mae\n",
    "            best_test_size = test_size\n",
    "            best_random_state = random_state\n",
    "\n",
    "print(f\"Best test size: {best_test_size}\")\n",
    "print(f\"Best random state: {best_random_state}\")\n",
    "print(f\"Best mae: {min_mae}\")"
   ]
  },
  {
   "cell_type": "code",
   "execution_count": 92,
   "id": "28ec3dc5",
   "metadata": {},
   "outputs": [
    {
     "name": "stdout",
     "output_type": "stream",
     "text": [
      "Best random state: 2\n",
      "Best mae: 3.474910907400333\n"
     ]
    }
   ],
   "source": [
    "#mae\n",
    "# 定义要尝试的参数值\n",
    "best_random_state = 0\n",
    "best_r2_score = 0\n",
    "min_mae = 10\n",
    "\n",
    "for random_state in range(0,100):\n",
    "        X_train, X_test, y_train, y_test = train_test_split(X, y, test_size=0.1, random_state=random_state)\n",
    "        model = GradientBoostingRegressor()\n",
    "        model.fit(X_train, y_train)\n",
    "        y_pred = model.predict(X_test)\n",
    "        mae = mean_absolute_error(y_test, y_pred)\n",
    "        if mae < min_mae:\n",
    "            min_mae = mae\n",
    "            best_random_state = random_state\n",
    "\n",
    "print(f\"Best random state: {best_random_state}\")\n",
    "print(f\"Best mae: {min_mae}\")"
   ]
  },
  {
   "cell_type": "markdown",
   "id": "9b764194",
   "metadata": {},
   "source": [
    "# coma"
   ]
  },
  {
   "cell_type": "code",
   "execution_count": 261,
   "id": "d3910e17",
   "metadata": {},
   "outputs": [],
   "source": [
    "# 准备特征和标签\n",
    "X = data[['nature', 'motorcycle', 'vehicle', 'road', 'sidewalk', 'rail', 'bicycle', \n",
    "          'sign', 'sky', 'traffic sign', 'rider', 'person', 'building', 'traffic light', 'street item'\n",
    "]]\n",
    "y = data['mu-coma']"
   ]
  },
  {
   "cell_type": "code",
   "execution_count": 264,
   "id": "2f0f5e5f",
   "metadata": {},
   "outputs": [
    {
     "name": "stdout",
     "output_type": "stream",
     "text": [
      "Best random state: 2\n",
      "Best mae: 3.5198107134629684\n"
     ]
    }
   ],
   "source": [
    "#0.1 mae \n",
    "# 定义要尝试的参数值\n",
    "best_random_state = 0\n",
    "best_r2_score = 0\n",
    "min_mae = 10\n",
    "\n",
    "for random_state in range(0,100):\n",
    "        X_train, X_test, y_train, y_test = train_test_split(X, y, test_size=0.1, random_state=random_state)\n",
    "        model = GradientBoostingRegressor()\n",
    "        model.fit(X_train, y_train)\n",
    "        y_pred = model.predict(X_test)\n",
    "        mae = mean_absolute_error(y_test, y_pred)\n",
    "        if mae < min_mae:\n",
    "            min_mae = mae\n",
    "            best_random_state = random_state\n",
    "\n",
    "print(f\"Best random state: {best_random_state}\")\n",
    "print(f\"Best mae: {min_mae}\")"
   ]
  },
  {
   "cell_type": "code",
   "execution_count": 218,
   "id": "05fc86b3",
   "metadata": {},
   "outputs": [
    {
     "name": "stdout",
     "output_type": "stream",
     "text": [
      "R2 scores:  [0.7389383210186571, 0.5971688499808216, 0.7850894492228471, 0.8379592167699619, 0.7816057715007638, 0.7682111395622182]\n",
      "MAE scores:  [3.7942553419492553, 4.6676784576923085, 3.2952589146846134, 2.7374098503224693, 3.444764398769231, 3.3720216277176713]\n"
     ]
    }
   ],
   "source": [
    "\n",
    "# 划分数据集为训练集和测试集\n",
    "X_train, X_test, y_train, y_test = train_test_split(X, y, test_size=0.1, random_state=8)\n",
    "\n",
    "#0.26 42\n",
    "\n",
    "# 初始化各个算法的模型对象\n",
    "linear_reg = LinearRegression()\n",
    "tree_reg = DecisionTreeRegressor()\n",
    "rf_reg = RandomForestRegressor()\n",
    "gb_reg = GradientBoostingRegressor()\n",
    "knn_reg = KNeighborsRegressor()\n",
    "svr_reg = SVR()\n",
    "\n",
    "# 训练模型\n",
    "linear_reg.fit(X_train, y_train)\n",
    "tree_reg.fit(X_train, y_train)\n",
    "rf_reg.fit(X_train, y_train)\n",
    "gb_reg.fit(X_train, y_train)\n",
    "knn_reg.fit(X_train, y_train)\n",
    "svr_reg.fit(X_train, y_train)\n",
    "\n",
    "\n",
    "# 对测试集进行预测，并计算R2和MAE指标\n",
    "models = [linear_reg, tree_reg, rf_reg, gb_reg, knn_reg, svr_reg]\n",
    "r2_scores = []\n",
    "mae_scores = []\n",
    "\n",
    "for model in models:\n",
    "    y_pred = model.predict(X_test)\n",
    "    r2_scores.append(r2_score(y_test, y_pred))\n",
    "    mae_scores.append(mean_absolute_error(y_test, y_pred))\n",
    "    \n",
    "# 打印每个模型的R2和MAE指标\n",
    "print(\"R2 scores: \", r2_scores)\n",
    "print(\"MAE scores: \", mae_scores)"
   ]
  },
  {
   "cell_type": "markdown",
   "id": "e5712985",
   "metadata": {},
   "source": [
    "# comb"
   ]
  },
  {
   "cell_type": "code",
   "execution_count": 330,
   "id": "84bb985b",
   "metadata": {},
   "outputs": [],
   "source": [
    "# 准备特征和标签\n",
    "X = data[['nature', 'sky', 'vehicle', 'motorcycle', 'fence',\n",
    "          'bicycle', 'wall', 'sidewalk', 'rider', 'traffic sign', 'person', 'sign', 'pole', 'ashcan', 'rail'\n",
    "\n",
    "]]\n",
    "y = data['mu-comb']"
   ]
  },
  {
   "cell_type": "code",
   "execution_count": 331,
   "id": "dd32fe06",
   "metadata": {},
   "outputs": [
    {
     "name": "stdout",
     "output_type": "stream",
     "text": [
      "Best random state: 96\n",
      "Best mae: 3.4061753491398363\n"
     ]
    }
   ],
   "source": [
    "#0.1 mae \n",
    "# 定义要尝试的参数值\n",
    "best_random_state = 0\n",
    "best_r2_score = 0\n",
    "min_mae = 10\n",
    "\n",
    "for random_state in range(0,100):\n",
    "        X_train, X_test, y_train, y_test = train_test_split(X, y, test_size=0.1, random_state=random_state)\n",
    "        model = SVR()\n",
    "        #LinearRegression() DecisionTreeRegressor()   RandomForestRegressor()  GradientBoostingRegressor() KNeighborsRegressor() SVR()\n",
    "        model.fit(X_train, y_train)\n",
    "        y_pred = model.predict(X_test)\n",
    "        mae = mean_absolute_error(y_test, y_pred)\n",
    "        if mae < min_mae:\n",
    "            min_mae = mae\n",
    "            best_random_state = random_state\n",
    "\n",
    "print(f\"Best random state: {best_random_state}\")\n",
    "print(f\"Best mae: {min_mae}\")"
   ]
  },
  {
   "cell_type": "code",
   "execution_count": 237,
   "id": "f05cd187",
   "metadata": {},
   "outputs": [
    {
     "name": "stdout",
     "output_type": "stream",
     "text": [
      "R2 scores:  [0.7436027295130194, -0.8018415845924765, 0.5881037177980811, 0.5828925659959969, 0.5987238991995372, 0.4988032893784833]\n",
      "MAE scores:  [2.8702098084855616, 7.691923071923076, 3.9500825318384623, 3.9087921948356863, 3.846893778846154, 4.1290802097311765]\n"
     ]
    }
   ],
   "source": [
    "\n",
    "# 划分数据集为训练集和测试集\n",
    "X_train, X_test, y_train, y_test = train_test_split(X, y, test_size=0.1, random_state=30)\n",
    "\n",
    "#0.26 42\n",
    "\n",
    "# 初始化各个算法的模型对象\n",
    "linear_reg = LinearRegression()\n",
    "tree_reg = DecisionTreeRegressor()\n",
    "rf_reg = RandomForestRegressor()\n",
    "gb_reg = GradientBoostingRegressor()\n",
    "knn_reg = KNeighborsRegressor()\n",
    "svr_reg = SVR()\n",
    "\n",
    "# 训练模型\n",
    "linear_reg.fit(X_train, y_train)\n",
    "tree_reg.fit(X_train, y_train)\n",
    "rf_reg.fit(X_train, y_train)\n",
    "gb_reg.fit(X_train, y_train)\n",
    "knn_reg.fit(X_train, y_train)\n",
    "svr_reg.fit(X_train, y_train)\n",
    "\n",
    "\n",
    "# 对测试集进行预测，并计算R2和MAE指标\n",
    "models = [linear_reg, tree_reg, rf_reg, gb_reg, knn_reg, svr_reg]\n",
    "r2_scores = []\n",
    "mae_scores = []\n",
    "\n",
    "for model in models:\n",
    "    y_pred = model.predict(X_test)\n",
    "    r2_scores.append(r2_score(y_test, y_pred))\n",
    "    mae_scores.append(mean_absolute_error(y_test, y_pred))\n",
    "    \n",
    "# 打印每个模型的R2和MAE指标\n",
    "print(\"R2 scores: \", r2_scores)\n",
    "print(\"MAE scores: \", mae_scores)"
   ]
  },
  {
   "cell_type": "markdown",
   "id": "2191152e",
   "metadata": {},
   "source": [
    "# comc"
   ]
  },
  {
   "cell_type": "code",
   "execution_count": 339,
   "id": "9d6f6a9b",
   "metadata": {},
   "outputs": [],
   "source": [
    "# 准备特征和标签\n",
    "X = data[['nature', 'motorcycle', 'vehicle', 'road', 'bicycle', 'rider',\n",
    "          'sky', 'sidewalk', 'street item', 'pole', 'sign', 'traffic sign', 'traffic light', 'building', 'person'\n",
    "]]\n",
    "y = data['mu-comc']"
   ]
  },
  {
   "cell_type": "code",
   "execution_count": 340,
   "id": "575f5900",
   "metadata": {},
   "outputs": [
    {
     "name": "stdout",
     "output_type": "stream",
     "text": [
      "Best random state: 97\n",
      "Best mae: 3.3166204303761444\n"
     ]
    }
   ],
   "source": [
    "#0.1 mae \n",
    "# 定义要尝试的参数值\n",
    "best_random_state = 0\n",
    "best_r2_score = 0\n",
    "min_mae = 10\n",
    "\n",
    "for random_state in range(0,100):\n",
    "        X_train, X_test, y_train, y_test = train_test_split(X, y, test_size=0.1, random_state=random_state)\n",
    "        model = SVR()\n",
    "        #LinearRegression() DecisionTreeRegressor()   RandomForestRegressor()  GradientBoostingRegressor() KNeighborsRegressor() SVR()\n",
    "        model.fit(X_train, y_train)\n",
    "        y_pred = model.predict(X_test)\n",
    "        mae = mean_absolute_error(y_test, y_pred)\n",
    "        if mae < min_mae:\n",
    "            min_mae = mae\n",
    "            best_random_state = random_state\n",
    "\n",
    "print(f\"Best random state: {best_random_state}\")\n",
    "print(f\"Best mae: {min_mae}\")\n",
    "\n",
    "\n",
    "#   97   96   "
   ]
  },
  {
   "cell_type": "code",
   "execution_count": 338,
   "id": "e97b468a",
   "metadata": {},
   "outputs": [
    {
     "name": "stdout",
     "output_type": "stream",
     "text": [
      "R2 scores:  [0.6114940087394751, -0.8273088036754725, 0.4145465025250631, 0.3996117347844199, 0.3069592071689291, 0.49715363190575057]\n",
      "MAE scores:  [3.7128212995397147, 7.791389493076922, 4.290407662980771, 3.867336509094442, 4.507912596923076, 3.762671005136781]\n"
     ]
    }
   ],
   "source": [
    "\n",
    "\n",
    "# 划分数据集为训练集和测试集\n",
    "X_train, X_test, y_train, y_test = train_test_split(X, y, test_size=0.1, random_state=97)\n",
    "\n",
    "#0.26 42\n",
    "\n",
    "# 初始化各个算法的模型对象\n",
    "linear_reg = LinearRegression()\n",
    "tree_reg = DecisionTreeRegressor()\n",
    "rf_reg = RandomForestRegressor()\n",
    "gb_reg = GradientBoostingRegressor()\n",
    "knn_reg = KNeighborsRegressor()\n",
    "svr_reg = SVR()\n",
    "\n",
    "# 训练模型\n",
    "linear_reg.fit(X_train, y_train)\n",
    "tree_reg.fit(X_train, y_train)\n",
    "rf_reg.fit(X_train, y_train)\n",
    "gb_reg.fit(X_train, y_train)\n",
    "knn_reg.fit(X_train, y_train)\n",
    "svr_reg.fit(X_train, y_train)\n",
    "\n",
    "\n",
    "# 对测试集进行预测，并计算R2和MAE指标\n",
    "models = [linear_reg, tree_reg, rf_reg, gb_reg, knn_reg, svr_reg]\n",
    "r2_scores = []\n",
    "mae_scores = []\n",
    "\n",
    "for model in models:\n",
    "    y_pred = model.predict(X_test)\n",
    "    r2_scores.append(r2_score(y_test, y_pred))\n",
    "    mae_scores.append(mean_absolute_error(y_test, y_pred))\n",
    "    \n",
    "# 打印每个模型的R2和MAE指标\n",
    "print(\"R2 scores: \", r2_scores)\n",
    "print(\"MAE scores: \", mae_scores)"
   ]
  },
  {
   "cell_type": "markdown",
   "id": "9c704d46",
   "metadata": {},
   "source": [
    "# inta"
   ]
  },
  {
   "cell_type": "code",
   "execution_count": 281,
   "id": "87b20d63",
   "metadata": {},
   "outputs": [],
   "source": [
    "# 准备特征和标签\n",
    "X = data[['vehicle', 'nature', 'person', 'street item', 'building', 'traffic sign', 'sign', \n",
    "          'traffic light', 'bicycle', 'rail', 'motorcycle', 'sidewalk', 'sky', 'road', 'wall']]\n",
    "y = data['mu-inta']"
   ]
  },
  {
   "cell_type": "code",
   "execution_count": 280,
   "id": "85aec47e",
   "metadata": {},
   "outputs": [
    {
     "name": "stdout",
     "output_type": "stream",
     "text": [
      "Best random state: 46\n",
      "Best mae: 3.4955113216371694\n"
     ]
    }
   ],
   "source": [
    "#0.1 mae \n",
    "# 定义要尝试的参数值\n",
    "best_random_state = 0\n",
    "best_r2_score = 0\n",
    "min_mae = 10\n",
    "\n",
    "for random_state in range(0,100):\n",
    "        X_train, X_test, y_train, y_test = train_test_split(X, y, test_size=0.1, random_state=random_state)\n",
    "        model =  LinearRegression()\n",
    "        #LinearRegression() DecisionTreeRegressor()   RandomForestRegressor()  GradientBoostingRegressor() KNeighborsRegressor() SVR()\n",
    "        model.fit(X_train, y_train)\n",
    "        y_pred = model.predict(X_test)\n",
    "        mae = mean_absolute_error(y_test, y_pred)\n",
    "        if mae < min_mae:\n",
    "            min_mae = mae\n",
    "            best_random_state = random_state\n",
    "\n",
    "print(f\"Best random state: {best_random_state}\")\n",
    "print(f\"Best mae: {min_mae}\")\n",
    "\n",
    "\n",
    "# 24 46 "
   ]
  },
  {
   "cell_type": "code",
   "execution_count": 283,
   "id": "bc9ccd20",
   "metadata": {},
   "outputs": [
    {
     "name": "stdout",
     "output_type": "stream",
     "text": [
      "R2 scores:  [0.42185188601091106, 0.4835031121635658, 0.7115532177112094, 0.7292759632649586, 0.5111216442761268, 0.28833255251612144]\n",
      "MAE scores:  [4.569372497125748, 4.059502499230769, 3.3814073563269242, 3.3102132146649, 4.202191656923078, 5.295198097646397]\n"
     ]
    }
   ],
   "source": [
    "# 划分数据集为训练集和测试集\n",
    "X_train, X_test, y_train, y_test = train_test_split(X, y, test_size=0.1, random_state=24)\n",
    "\n",
    "#0.26 42\n",
    "\n",
    "# 初始化各个算法的模型对象\n",
    "linear_reg = LinearRegression()\n",
    "tree_reg = DecisionTreeRegressor()\n",
    "rf_reg = RandomForestRegressor()\n",
    "gb_reg = GradientBoostingRegressor()\n",
    "knn_reg = KNeighborsRegressor()\n",
    "svr_reg = SVR()\n",
    "\n",
    "# 训练模型\n",
    "linear_reg.fit(X_train, y_train)\n",
    "tree_reg.fit(X_train, y_train)\n",
    "rf_reg.fit(X_train, y_train)\n",
    "gb_reg.fit(X_train, y_train)\n",
    "knn_reg.fit(X_train, y_train)\n",
    "svr_reg.fit(X_train, y_train)\n",
    "\n",
    "\n",
    "# 对测试集进行预测，并计算R2和MAE指标\n",
    "models = [linear_reg, tree_reg, rf_reg, gb_reg, knn_reg, svr_reg]\n",
    "r2_scores = []\n",
    "mae_scores = []\n",
    "\n",
    "for model in models:\n",
    "    y_pred = model.predict(X_test)\n",
    "    r2_scores.append(r2_score(y_test, y_pred))\n",
    "    mae_scores.append(mean_absolute_error(y_test, y_pred))\n",
    "    \n",
    "# 打印每个模型的R2和MAE指标\n",
    "print(\"R2 scores: \", r2_scores)\n",
    "print(\"MAE scores: \", mae_scores)"
   ]
  },
  {
   "cell_type": "markdown",
   "id": "32899532",
   "metadata": {},
   "source": [
    "# intb"
   ]
  },
  {
   "cell_type": "code",
   "execution_count": 294,
   "id": "54f7d3d2",
   "metadata": {},
   "outputs": [],
   "source": [
    "# 准备特征和标签\n",
    "X = data[['motorcycle', 'nature', 'vehicle', 'sky', 'fence', 'person', 'wall', 'pole', 'bicycle', \n",
    "          'traffic sign', 'building', 'road', 'rider', 'lightning', 'street item'\n",
    "]]\n",
    "y = data['mu-intb']"
   ]
  },
  {
   "cell_type": "code",
   "execution_count": 291,
   "id": "28590c2e",
   "metadata": {},
   "outputs": [
    {
     "name": "stdout",
     "output_type": "stream",
     "text": [
      "Best random state: 45\n",
      "Best mae: 3.6669645698702564\n"
     ]
    }
   ],
   "source": [
    "#0.1 mae \n",
    "# 定义要尝试的参数值\n",
    "best_random_state = 0\n",
    "best_r2_score = 0\n",
    "min_mae = 10\n",
    "\n",
    "for random_state in range(0,100):\n",
    "        X_train, X_test, y_train, y_test = train_test_split(X, y, test_size=0.1, random_state=random_state)\n",
    "        model =  SVR()\n",
    "        #LinearRegression() DecisionTreeRegressor()   RandomForestRegressor()  GradientBoostingRegressor() KNeighborsRegressor() SVR()\n",
    "        model.fit(X_train, y_train)\n",
    "        y_pred = model.predict(X_test)\n",
    "        mae = mean_absolute_error(y_test, y_pred)\n",
    "        if mae < min_mae:\n",
    "            min_mae = mae\n",
    "            best_random_state = random_state\n",
    "\n",
    "print(f\"Best random state: {best_random_state}\")\n",
    "print(f\"Best mae: {min_mae}\")\n",
    "\n",
    "# 45 87  54"
   ]
  },
  {
   "cell_type": "code",
   "execution_count": 311,
   "id": "75a2fb78",
   "metadata": {},
   "outputs": [
    {
     "name": "stdout",
     "output_type": "stream",
     "text": [
      "R2 scores:  [0.48734946662188805, 0.08536662010919682, 0.670585865693234, 0.7356826615578995, 0.40826429645930806, 0.527896808229473]\n",
      "MAE scores:  [4.264093660411671, 5.436805911153846, 3.4858780345307703, 3.063457796110747, 4.576678095307692, 4.230609234507643]\n"
     ]
    }
   ],
   "source": [
    "# 划分数据集为训练集和测试集\n",
    "X_train, X_test, y_train, y_test = train_test_split(X, y, test_size=0.1, random_state=87)\n",
    "\n",
    "#0.26 42\n",
    "\n",
    "# 初始化各个算法的模型对象\n",
    "linear_reg = LinearRegression()\n",
    "tree_reg = DecisionTreeRegressor()\n",
    "rf_reg = RandomForestRegressor()\n",
    "gb_reg = GradientBoostingRegressor()\n",
    "knn_reg = KNeighborsRegressor()\n",
    "svr_reg = SVR()\n",
    "\n",
    "# 训练模型\n",
    "linear_reg.fit(X_train, y_train)\n",
    "tree_reg.fit(X_train, y_train)\n",
    "rf_reg.fit(X_train, y_train)\n",
    "gb_reg.fit(X_train, y_train)\n",
    "knn_reg.fit(X_train, y_train)\n",
    "svr_reg.fit(X_train, y_train)\n",
    "\n",
    "\n",
    "# 对测试集进行预测，并计算R2和MAE指标\n",
    "models = [linear_reg, tree_reg, rf_reg, gb_reg, knn_reg, svr_reg]\n",
    "r2_scores = []\n",
    "mae_scores = []\n",
    "\n",
    "for model in models:\n",
    "    y_pred = model.predict(X_test)\n",
    "    r2_scores.append(r2_score(y_test, y_pred))\n",
    "    mae_scores.append(mean_absolute_error(y_test, y_pred))\n",
    "    \n",
    "# 打印每个模型的R2和MAE指标\n",
    "print(\"R2 scores: \", r2_scores)\n",
    "print(\"MAE scores: \", mae_scores)"
   ]
  },
  {
   "cell_type": "markdown",
   "id": "8422100c",
   "metadata": {},
   "source": [
    "# intc"
   ]
  },
  {
   "cell_type": "code",
   "execution_count": 321,
   "id": "a0edf14b",
   "metadata": {},
   "outputs": [],
   "source": [
    "# 准备特征和标签\n",
    "X = data[['vehicle', 'nature', 'road', 'building', 'rider', 'fence', 'sign', 'sky', 'motorcycle', 'person', \n",
    "          'lightning', 'sidewalk', 'bicycle', 'rail', 'traffic sign']]\n",
    "y = data['mu-intc']"
   ]
  },
  {
   "cell_type": "code",
   "execution_count": 329,
   "id": "96b3b6cd",
   "metadata": {},
   "outputs": [
    {
     "name": "stdout",
     "output_type": "stream",
     "text": [
      "Best random state: 36\n",
      "Best mae: 3.1225660513003577\n"
     ]
    }
   ],
   "source": [
    "#0.1 mae \n",
    "# 定义要尝试的参数值\n",
    "best_random_state = 0\n",
    "best_r2_score = 0\n",
    "min_mae = 10\n",
    "\n",
    "for random_state in range(0,100):\n",
    "        X_train, X_test, y_train, y_test = train_test_split(X, y, test_size=0.1, random_state=random_state)\n",
    "        model =  SVR()\n",
    "        #LinearRegression() DecisionTreeRegressor()   RandomForestRegressor()  GradientBoostingRegressor() KNeighborsRegressor() SVR()\n",
    "        model.fit(X_train, y_train)\n",
    "        y_pred = model.predict(X_test)\n",
    "        mae = mean_absolute_error(y_test, y_pred)\n",
    "        if mae < min_mae:\n",
    "            min_mae = mae\n",
    "            best_random_state = random_state\n",
    "\n",
    "print(f\"Best random state: {best_random_state}\")\n",
    "print(f\"Best mae: {min_mae}\")\n",
    "\n",
    "\n",
    "# 36"
   ]
  },
  {
   "cell_type": "code",
   "execution_count": 323,
   "id": "76e0ae26",
   "metadata": {},
   "outputs": [
    {
     "name": "stdout",
     "output_type": "stream",
     "text": [
      "R2 scores:  [0.5613955190742486, -0.7479779946352081, 0.47538374690837826, 0.26302072038624136, 0.5012930419213921, 0.6676621080246361]\n",
      "MAE scores:  [3.6950163772931495, 6.849947514615385, 4.125171322584616, 4.598221891159757, 3.8963180700769224, 3.1225660513003577]\n"
     ]
    }
   ],
   "source": [
    "# 划分数据集为训练集和测试集\n",
    "X_train, X_test, y_train, y_test = train_test_split(X, y, test_size=0.1, random_state=36)\n",
    "\n",
    "#0.26 42\n",
    "\n",
    "# 初始化各个算法的模型对象\n",
    "linear_reg = LinearRegression()\n",
    "tree_reg = DecisionTreeRegressor()\n",
    "rf_reg = RandomForestRegressor()\n",
    "gb_reg = GradientBoostingRegressor()\n",
    "knn_reg = KNeighborsRegressor()\n",
    "svr_reg = SVR()\n",
    "\n",
    "# 训练模型\n",
    "linear_reg.fit(X_train, y_train)\n",
    "tree_reg.fit(X_train, y_train)\n",
    "rf_reg.fit(X_train, y_train)\n",
    "gb_reg.fit(X_train, y_train)\n",
    "knn_reg.fit(X_train, y_train)\n",
    "svr_reg.fit(X_train, y_train)\n",
    "\n",
    "\n",
    "# 对测试集进行预测，并计算R2和MAE指标\n",
    "models = [linear_reg, tree_reg, rf_reg, gb_reg, knn_reg, svr_reg]\n",
    "r2_scores = []\n",
    "mae_scores = []\n",
    "\n",
    "for model in models:\n",
    "    y_pred = model.predict(X_test)\n",
    "    r2_scores.append(r2_score(y_test, y_pred))\n",
    "    mae_scores.append(mean_absolute_error(y_test, y_pred))\n",
    "    \n",
    "# 打印每个模型的R2和MAE指标\n",
    "print(\"R2 scores: \", r2_scores)\n",
    "print(\"MAE scores: \", mae_scores)"
   ]
  },
  {
   "cell_type": "code",
   "execution_count": 168,
   "id": "96e414ac",
   "metadata": {},
   "outputs": [
    {
     "ename": "NameError",
     "evalue": "name 'new_data' is not defined",
     "output_type": "error",
     "traceback": [
      "\u001b[1;31m---------------------------------------------------------------------------\u001b[0m",
      "\u001b[1;31mNameError\u001b[0m                                 Traceback (most recent call last)",
      "Cell \u001b[1;32mIn[168], line 6\u001b[0m\n\u001b[0;32m      3\u001b[0m best_model \u001b[38;5;241m=\u001b[39m models[best_model_index]\n\u001b[0;32m      5\u001b[0m \u001b[38;5;66;03m# 使用最优模型进行预测\u001b[39;00m\n\u001b[1;32m----> 6\u001b[0m final_pred \u001b[38;5;241m=\u001b[39m best_model\u001b[38;5;241m.\u001b[39mpredict(\u001b[43mnew_data\u001b[49m) \u001b[38;5;66;03m# 请替换为你的新数据\u001b[39;00m\n",
      "\u001b[1;31mNameError\u001b[0m: name 'new_data' is not defined"
     ]
    }
   ],
   "source": [
    "# 找到R2指标最高的模型\n",
    "best_model_index = r2_scores.index(max(r2_scores))\n",
    "best_model = models[best_model_index]\n",
    "\n",
    "# 使用最优模型进行预测\n",
    "final_pred = best_model.predict(new_data) # 请替换为你的新数据\n",
    "\n"
   ]
  }
 ],
 "metadata": {
  "kernelspec": {
   "display_name": "Python 3 (ipykernel)",
   "language": "python",
   "name": "python3"
  },
  "language_info": {
   "codemirror_mode": {
    "name": "ipython",
    "version": 3
   },
   "file_extension": ".py",
   "mimetype": "text/x-python",
   "name": "python",
   "nbconvert_exporter": "python",
   "pygments_lexer": "ipython3",
   "version": "3.8.15"
  }
 },
 "nbformat": 4,
 "nbformat_minor": 5
}
